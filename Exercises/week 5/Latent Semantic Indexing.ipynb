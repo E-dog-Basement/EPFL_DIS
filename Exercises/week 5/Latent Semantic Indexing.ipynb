{
 "cells": [
  {
   "cell_type": "markdown",
   "metadata": {
    "toc": true
   },
   "source": [
    "<h1>Table of Contents<span class=\"tocSkip\"></span></h1>\n",
    "<div class=\"toc\"><ul class=\"toc-item\"><li><span><a href=\"#📚-Exercise:-Latent-Semantic-Indexing\" data-toc-modified-id=\"📚-Exercise:-Latent-Semantic-Indexing-0\"><span class=\"toc-item-num\">0&nbsp;&nbsp;</span>📚 Exercise: Latent Semantic Indexing</a></span><ul class=\"toc-item\"><li><span><a href=\"#Goal:\" data-toc-modified-id=\"Goal:-0.1\"><span class=\"toc-item-num\">0.1&nbsp;&nbsp;</span>Goal:</a></span></li><li><span><a href=\"#What-you-are-learning-in-this-exercise:\" data-toc-modified-id=\"What-you-are-learning-in-this-exercise:-0.2\"><span class=\"toc-item-num\">0.2&nbsp;&nbsp;</span>What you are learning in this exercise:</a></span></li></ul></li><li><span><a href=\"#Part1:-Implement-Latent-Semantic-Indexing-(LSI)\" data-toc-modified-id=\"Part1:-Implement-Latent-Semantic-Indexing-(LSI)-1\"><span class=\"toc-item-num\">1&nbsp;&nbsp;</span>Part1: Implement Latent Semantic Indexing (LSI)</a></span><ul class=\"toc-item\"><li><span><a href=\"#1.1-Read-the-corpus-data\" data-toc-modified-id=\"1.1-Read-the-corpus-data-1.1\"><span class=\"toc-item-num\">1.1&nbsp;&nbsp;</span>1.1 Read the corpus data</a></span></li><li><span><a href=\"#1.2.-Build-the-vocabulary-by-selecting-top-k-frequent-words\" data-toc-modified-id=\"1.2.-Build-the-vocabulary-by-selecting-top-k-frequent-words-1.2\"><span class=\"toc-item-num\">1.2&nbsp;&nbsp;</span>1.2. Build the vocabulary by selecting top-k frequent words</a></span></li><li><span><a href=\"#1.3.-Construct-the-term-document-matrix\" data-toc-modified-id=\"1.3.-Construct-the-term-document-matrix-1.3\"><span class=\"toc-item-num\">1.3&nbsp;&nbsp;</span>1.3. Construct the term document matrix</a></span></li><li><span><a href=\"#1.4.-Perform-LSI-by-selecting-the-first-100-largest-singular-values-of-the-term-document-matrix\" data-toc-modified-id=\"1.4.-Perform-LSI-by-selecting-the-first-100-largest-singular-values-of-the-term-document-matrix-1.4\"><span class=\"toc-item-num\">1.4&nbsp;&nbsp;</span>1.4. Perform LSI by selecting the first 100 largest singular values of the term document matrix</a></span></li><li><span><a href=\"#1.5.-Transform-the-given-query\" data-toc-modified-id=\"1.5.-Transform-the-given-query-1.5\"><span class=\"toc-item-num\">1.5&nbsp;&nbsp;</span>1.5. Transform the given query</a></span></li><li><span><a href=\"#1.6.-Retrieve-top-10-relevant-documents\" data-toc-modified-id=\"1.6.-Retrieve-top-10-relevant-documents-1.6\"><span class=\"toc-item-num\">1.6&nbsp;&nbsp;</span>1.6. Retrieve top-10 relevant documents</a></span></li></ul></li><li><span><a href=\"#Part2:-Evaluation\" data-toc-modified-id=\"Part2:-Evaluation-2\"><span class=\"toc-item-num\">2&nbsp;&nbsp;</span>Part2: Evaluation</a></span><ul class=\"toc-item\"><li><span><a href=\"#2.1.-Compute-F1-score-at-10-between-the-oracle-and-your-result\" data-toc-modified-id=\"2.1.-Compute-F1-score-at-10-between-the-oracle-and-your-result-2.1\"><span class=\"toc-item-num\">2.1&nbsp;&nbsp;</span>2.1. Compute F1-score at 10 between the oracle and your result</a></span></li></ul></li><li><span><a href=\"#Part3.-Visualization\" data-toc-modified-id=\"Part3.-Visualization-3\"><span class=\"toc-item-num\">3&nbsp;&nbsp;</span>Part3. Visualization</a></span><ul class=\"toc-item\"><li><span><a href=\"#3.1.-Compute-the-term-vectors-using-two-principal-concepts\" data-toc-modified-id=\"3.1.-Compute-the-term-vectors-using-two-principal-concepts-3.1\"><span class=\"toc-item-num\">3.1&nbsp;&nbsp;</span>3.1. Compute the term vectors using two principal concepts</a></span></li><li><span><a href=\"#3.2.-Explain-the-scatter-plot-of-the-term-vectors\" data-toc-modified-id=\"3.2.-Explain-the-scatter-plot-of-the-term-vectors-3.2\"><span class=\"toc-item-num\">3.2&nbsp;&nbsp;</span>3.2. Explain the scatter plot of the term vectors</a></span></li></ul></li></ul></div>"
   ]
  },
  {
   "cell_type": "markdown",
   "metadata": {},
   "source": [
    "## 📚 Exercise: Latent Semantic Indexing\n",
    "In this exercise we would learn about Latent Semantic Indexing (LSI) based retrieval models.\n",
    "\n",
    "### Goal:\n",
    "- Implement a search engine using LSI\n",
    "- Visualize the LSI concepts\n",
    "- Compare the retrieval results with scikit vector space retrieval method (as an oracle)\n",
    "\n",
    "### What you are learning in this exercise:\n",
    "1. Learn more about LSI approach\n",
    "2. How retrieval results can be different in LSI and vector space retrieval models\n"
   ]
  },
  {
   "cell_type": "markdown",
   "metadata": {},
   "source": [
    "## Part1: Implement Latent Semantic Indexing (LSI)\n",
    "### 1.1 Read the corpus data"
   ]
  },
  {
   "cell_type": "code",
   "execution_count": 1,
   "metadata": {
    "ExecuteTime": {
     "end_time": "2022-10-26T22:00:49.175743Z",
     "start_time": "2022-10-26T22:00:48.284866Z"
    }
   },
   "outputs": [
    {
     "name": "stderr",
     "output_type": "stream",
     "text": [
      "[nltk_data] Downloading package punkt to /Users/sunyukang/nltk_data...\n",
      "[nltk_data]   Package punkt is already up-to-date!\n",
      "[nltk_data] Downloading package stopwords to\n",
      "[nltk_data]     /Users/sunyukang/nltk_data...\n",
      "[nltk_data]   Package stopwords is already up-to-date!\n"
     ]
    }
   ],
   "source": [
    "#Required libraries\n",
    "\n",
    "from sklearn.feature_extraction.text import CountVectorizer, TfidfVectorizer\n",
    "from sklearn.metrics.pairwise import linear_kernel\n",
    "import math\n",
    "from nltk.stem import PorterStemmer, WordNetLemmatizer\n",
    "import os\n",
    "import string\n",
    "import numpy as np\n",
    "from collections import Counter\n",
    "from nltk.tokenize import word_tokenize, TweetTokenizer\n",
    "from nltk.corpus import stopwords\n",
    "from collections import Counter\n",
    "from operator import itemgetter\n",
    "from pprint import pprint\n",
    "import nltk\n",
    "import matplotlib.pyplot as plt\n",
    "nltk.download('punkt')\n",
    "nltk.download('stopwords')\n",
    "stop_words = set(stopwords.words('english')).union(set(stopwords.words('french')))"
   ]
  },
  {
   "cell_type": "code",
   "execution_count": 2,
   "metadata": {
    "ExecuteTime": {
     "end_time": "2022-10-26T22:00:49.881302Z",
     "start_time": "2022-10-26T22:00:49.872568Z"
    }
   },
   "outputs": [],
   "source": [
    "def read_corpus():\n",
    "    '''Reads corpus from files.'''\n",
    "    \n",
    "    documents = []\n",
    "    orig_docs = []\n",
    "    DIR = './'\n",
    "    tknzr = TweetTokenizer()\n",
    "    with open(\"epfldocs.txt\", encoding = \"utf-8\") as f:\n",
    "        content = f.readlines()\n",
    "    for text in content:\n",
    "        orig_docs.append(text)\n",
    "        # split into words\n",
    "        tokens = tknzr.tokenize(text)\n",
    "        # convert to lower case\n",
    "        tokens = [w.lower() for w in tokens]\n",
    "        # remove punctuation from each word\n",
    "        table = str.maketrans('', '', string.punctuation)\n",
    "        stripped = [w.translate(table) for w in tokens]\n",
    "        # remove remaining tokens that are not alphabetic\n",
    "        words = [word for word in stripped if word.isalpha()]\n",
    "        # filter out stop words\n",
    "        words = [w for w in words if not w in stop_words]\n",
    "\n",
    "        documents.append(' '.join(words))\n",
    "    return documents, orig_docs"
   ]
  },
  {
   "cell_type": "code",
   "execution_count": 3,
   "metadata": {
    "ExecuteTime": {
     "end_time": "2022-10-26T22:00:50.820222Z",
     "start_time": "2022-10-26T22:00:50.725834Z"
    }
   },
   "outputs": [],
   "source": [
    "documents, orig_docs = read_corpus()"
   ]
  },
  {
   "cell_type": "code",
   "execution_count": 4,
   "metadata": {
    "ExecuteTime": {
     "end_time": "2022-10-26T22:00:51.345511Z",
     "start_time": "2022-10-26T22:00:51.341091Z"
    }
   },
   "outputs": [],
   "source": [
    "assert(len(documents) == 1075)"
   ]
  },
  {
   "cell_type": "markdown",
   "metadata": {},
   "source": [
    "### 1.2. Build the vocabulary by selecting top-k frequent words"
   ]
  },
  {
   "cell_type": "code",
   "execution_count": 6,
   "metadata": {
    "ExecuteTime": {
     "end_time": "2022-10-26T22:06:51.436631Z",
     "start_time": "2022-10-26T22:06:51.427024Z"
    }
   },
   "outputs": [],
   "source": [
    "def create_vocabulary_frequency(corpus, vocab_len):\n",
    "    '''Select top-k (k = vocab_len) words in term of frequencies as vocabulary'''\n",
    "    \n",
    "    count = {} # dictionary that contains the frequency of each word count[word] = freq\n",
    "    for document in corpus:\n",
    "        for word in document.split():\n",
    "            if word in count:\n",
    "                count[word] += 1\n",
    "            else:\n",
    "                count[word] = 1\n",
    "            \n",
    "            # YOUR CODE HERE\n",
    "    \n",
    "    sorted_count_by_freq = sorted(count.items(), key=lambda kv: kv[1], reverse=True)\n",
    "    vocabulary = [x[0] for x in sorted_count_by_freq[:vocab_len+1]]\n",
    "    \n",
    "    return vocabulary\n"
   ]
  },
  {
   "cell_type": "code",
   "execution_count": 7,
   "metadata": {
    "ExecuteTime": {
     "end_time": "2022-10-26T22:06:52.767372Z",
     "start_time": "2022-10-26T22:06:52.751712Z"
    },
    "scrolled": true
   },
   "outputs": [],
   "source": [
    "vocab_freq = create_vocabulary_frequency(documents, 1000)"
   ]
  },
  {
   "cell_type": "markdown",
   "metadata": {},
   "source": [
    "### 1.3. Construct the term document matrix\n",
    "In this question, you need to construct the term document matrix given the vocabulary and the set of documents.\n",
    "The value of a cell (i, j) is the term frequency of the term i in document j."
   ]
  },
  {
   "cell_type": "code",
   "execution_count": 14,
   "metadata": {
    "ExecuteTime": {
     "end_time": "2022-10-26T22:42:33.716415Z",
     "start_time": "2022-10-26T22:42:33.703667Z"
    }
   },
   "outputs": [],
   "source": [
    "def construct_term_document_matrix(vocabulary, documents):\n",
    "    matrix = np.zeros((len(vocabulary), len(documents)))\n",
    "    for j, document in enumerate(documents):\n",
    "        counter = Counter(document.split())\n",
    "        for i, word in enumerate(vocabulary):\n",
    "            if word in counter:\n",
    "                matrix[i,j] = counter[word]\n",
    "            \n",
    "            \n",
    "            \n",
    "            # YOUR CODE HERE\n",
    "            \n",
    "    return matrix"
   ]
  },
  {
   "cell_type": "code",
   "execution_count": 15,
   "metadata": {
    "ExecuteTime": {
     "end_time": "2022-10-26T22:42:34.419443Z",
     "start_time": "2022-10-26T22:42:34.339271Z"
    }
   },
   "outputs": [],
   "source": [
    "term_doc_matrix_freq = construct_term_document_matrix(vocab_freq, documents)"
   ]
  },
  {
   "cell_type": "markdown",
   "metadata": {},
   "source": [
    "### 1.4. Perform LSI by selecting the first 100 largest singular values of the term document matrix  \n",
    "Hint 1: np.linalg.svd(M, full_matrices=False) performs SVD on the matrix $\\mathbf{M}$ and returns $\\mathbf{K}, \\mathbf{S}, \\mathbf{D}^T$\n",
    "\n",
    " -  $\\mathbf{K}, \\mathbf{D}^T$ are matrices with orthonormal columns\n",
    " -  $\\mathbf{S}$ is a **vector** of singular values in a **descending** order\n",
    " \n",
    "Hint 2: np.diag(V) converts a vector to a diagonal matrix\n",
    "\n",
    "Hint 3: To select \n",
    " - The first k rows of a matrix A, use A[0:k, :]\n",
    " - The first k columns of a matrix A, use A[:, 0:k]\n",
    " - The submatrix from first k rows and k columns of a matrix A, use A[0:k, 0:k]"
   ]
  },
  {
   "cell_type": "code",
   "execution_count": 19,
   "metadata": {
    "ExecuteTime": {
     "end_time": "2022-10-26T22:43:06.868905Z",
     "start_time": "2022-10-26T22:43:06.864442Z"
    }
   },
   "outputs": [],
   "source": [
    "# Input: a term document matrix and the number of singular values that will be selected\n",
    "# Output: K_s, S_s, Dt_s are similar to the defintion in the lecture\n",
    "def truncated_svd(term_doc_matrix, num_val):\n",
    "    K, S, Dt = np.linalg.svd(term_doc_matrix, full_matrices=False)\n",
    "    K_sel = K[:, 0:num_val]\n",
    "    S_sel = np.diag(S)[0:num_val, 0:num_val]\n",
    "    Dt_sel = Dt[0:num_val, :]\n",
    "    \n",
    "    # YOUR CODE HERE\n",
    "    \n",
    "    return K_sel, S_sel, Dt_sel"
   ]
  },
  {
   "cell_type": "code",
   "execution_count": 20,
   "metadata": {
    "ExecuteTime": {
     "end_time": "2022-10-26T22:43:09.565163Z",
     "start_time": "2022-10-26T22:43:07.813500Z"
    }
   },
   "outputs": [],
   "source": [
    "K_freq, S_freq, Dt_freq = truncated_svd(term_doc_matrix_freq, 100)"
   ]
  },
  {
   "cell_type": "markdown",
   "metadata": {},
   "source": [
    "### 1.5. Transform the given query\n",
    "In this question, you need to construct a vector representation for the following query:"
   ]
  },
  {
   "cell_type": "code",
   "execution_count": 23,
   "metadata": {
    "ExecuteTime": {
     "end_time": "2022-10-26T22:43:40.733645Z",
     "start_time": "2022-10-26T22:43:40.731067Z"
    }
   },
   "outputs": [],
   "source": [
    "query = ['epfl']"
   ]
  },
  {
   "cell_type": "code",
   "execution_count": 24,
   "metadata": {
    "ExecuteTime": {
     "end_time": "2022-10-26T22:46:52.011282Z",
     "start_time": "2022-10-26T22:46:52.003817Z"
    }
   },
   "outputs": [],
   "source": [
    "def query_to_document_vector(query, vocabulary):\n",
    "    vector = np.zeros(len(vocabulary))\n",
    "    for word in query:\n",
    "        try:\n",
    "            vector[vocabulary.index(word)] += 1\n",
    "            # YOUR CODE HERE\n",
    "        except:\n",
    "            # if query word is not in vocabulary, ignore it\n",
    "            pass\n",
    "    return vector"
   ]
  },
  {
   "cell_type": "markdown",
   "metadata": {},
   "source": [
    "\n",
    "\n",
    "Hint: \n",
    " -  To compute inverse of a matrix M, use np.linalg.inv(M)\n",
    " -  To compute the dot product of A, B, use np.dot(A,B)"
   ]
  },
  {
   "cell_type": "code",
   "execution_count": 25,
   "metadata": {
    "ExecuteTime": {
     "end_time": "2022-10-26T22:54:14.609491Z",
     "start_time": "2022-10-26T22:54:14.602464Z"
    }
   },
   "outputs": [],
   "source": [
    "def construct_query_vector(query, vocabulary, K_s, S_s, Dt_s):\n",
    "    q = query_to_document_vector(query, vocabulary)\n",
    "    mapper = np.dot(K_s, np.linalg.inv(S_s))\n",
    "    q_trans = np.dot(q, mapper)\n",
    "    # YOUR CODE HERE\n",
    "    \n",
    "    return q_trans"
   ]
  },
  {
   "cell_type": "code",
   "execution_count": 26,
   "metadata": {
    "ExecuteTime": {
     "end_time": "2022-10-26T22:54:15.395553Z",
     "start_time": "2022-10-26T22:54:15.364762Z"
    }
   },
   "outputs": [],
   "source": [
    "query_vector_freq = construct_query_vector(query, vocab_freq, K_freq, S_freq, Dt_freq)"
   ]
  },
  {
   "cell_type": "markdown",
   "metadata": {},
   "source": [
    "### 1.6. Retrieve top-10 relevant documents\n",
    "In this question, you need to retrieve the top-10 documents that are relevant to the query using cosine similarity. You are given a function to compute the cosine simimlarity and a function that return the top-k documents given the query and document vectors."
   ]
  },
  {
   "cell_type": "code",
   "execution_count": 28,
   "metadata": {
    "ExecuteTime": {
     "end_time": "2022-10-26T22:58:40.316123Z",
     "start_time": "2022-10-26T22:58:40.307695Z"
    }
   },
   "outputs": [],
   "source": [
    "def cosine_similarity(v1, v2):\n",
    "    sumxx, sumxy, sumyy = 0, 0, 0\n",
    "    for i in range(len(v1)):\n",
    "        x = v1[i]; y = v2[i]\n",
    "        sumxx += x*x\n",
    "        sumyy += y*y\n",
    "        sumxy += x*y\n",
    "    return sumxy*1.0/math.sqrt(sumxx*sumyy)"
   ]
  },
  {
   "cell_type": "code",
   "execution_count": 29,
   "metadata": {
    "ExecuteTime": {
     "end_time": "2022-10-26T22:58:40.683113Z",
     "start_time": "2022-10-26T22:58:40.678040Z"
    }
   },
   "outputs": [],
   "source": [
    "def retrieve_documents(query_vector, top_k, Dt_sel):\n",
    "    scores = [[cosine_similarity(query_vector, Dt_sel[:,d]), d] for d in range(len(documents))]\n",
    "    scores.sort(key=lambda x: -x[0])\n",
    "    doc_ids = []\n",
    "    retrieved = []\n",
    "    for i in range(top_k):\n",
    "        doc_ids.append(scores[i][1])\n",
    "        retrieved.append(orig_docs[scores[i][1]])\n",
    "    return doc_ids, retrieved"
   ]
  },
  {
   "cell_type": "markdown",
   "metadata": {},
   "source": [
    "Fill in the correct parameters in the following function"
   ]
  },
  {
   "cell_type": "code",
   "execution_count": 31,
   "metadata": {
    "ExecuteTime": {
     "end_time": "2022-10-26T22:59:38.051215Z",
     "start_time": "2022-10-26T22:59:37.999843Z"
    }
   },
   "outputs": [
    {
     "name": "stdout",
     "output_type": "stream",
     "text": [
      "[\"@EPFL Retrouvez votre 1er tweet sélectionné par L'important \"\n",
      " 'https://t.co/B2tCt924Cp\\n',\n",
      " 'Environnement, un marché en pleine croissance https://t.co/ThTcYLrMtn Avec '\n",
      " 'Philippe Thalmann @EPFL\\n',\n",
      " \"Belle leçon de technologie dans @RTScqfd avec l'exosquelette \"\n",
      " '@twiice_official testé par Silke Pan. https://t.co/4uIdXckvaq #RTScqfd '\n",
      " '#EPFL\\n',\n",
      " 'Chocolate &amp; berries #vegan cheesecake for my @EPFL coworkers! ✌🏽🌱 '\n",
      " '#veganfood #EPFLfood https://t.co/wPlLsIt0KD\\n',\n",
      " \"L'app pour «liker» en direct les transports publics https://t.co/3HbkTnIE3Q \"\n",
      " '#epfl\\n',\n",
      " 'signé @EPFL https://t.co/sRldB2O7PM\\n',\n",
      " \"L'électrochimie débusque les protéines résistantes aux antibiotiques \"\n",
      " 'https://t.co/BHlj5WHMbC Avec Hubert Girault @EPFL\\n',\n",
      " '#ff @Kikohs and his beautiful artworks. Some of them are displayed at @EPFL '\n",
      " 'and featured on ZettaBytes! https://t.co/8F4BNL7aAs\\n',\n",
      " 'Ca court, ca court à #carandache #epfl #wwim15 #wwim15_igerslausanne '\n",
      " 'https://t.co/0bNMBPx50k\\n',\n",
      " 'Femmes en politique, pour en finir avec les seconds rôles '\n",
      " 'https://t.co/IgIkg8yrxy #epfl\\n']\n"
     ]
    },
    {
     "name": "stderr",
     "output_type": "stream",
     "text": [
      "/var/folders/s7/54k45_1544j5xllpj50wg60h0000gn/T/ipykernel_85768/2486228715.py:8: RuntimeWarning: invalid value encountered in double_scalars\n",
      "  return sumxy*1.0/math.sqrt(sumxx*sumyy)\n"
     ]
    }
   ],
   "source": [
    "retrieved_ids_freq, retrieved_docs_freq = retrieve_documents(query_vector_freq, 10, Dt_freq)\n",
    "pprint(retrieved_docs_freq)"
   ]
  },
  {
   "cell_type": "markdown",
   "metadata": {},
   "source": [
    "## Part2: Evaluation\n",
    "In this question, we consider the scikit reference code as an “oracle” that supposedly gives the correct result. You need to compare your retrieval results with this oracle using the F1-score."
   ]
  },
  {
   "cell_type": "code",
   "execution_count": 32,
   "metadata": {
    "ExecuteTime": {
     "end_time": "2022-10-26T23:01:05.659258Z",
     "start_time": "2022-10-26T23:01:05.627131Z"
    }
   },
   "outputs": [],
   "source": [
    "# Retrieval oracle \n",
    "tf = TfidfVectorizer(analyzer='word', ngram_range=(1,1), vocabulary=vocab_freq, min_df = 1, stop_words = 'english')\n",
    "features = tf.fit_transform(documents)\n",
    "npm_tfidf = features.todense()\n",
    "\n",
    "# Return all document ids that that have cosine similarity with the query larger than a threshold\n",
    "def search_vec_sklearn(query, features, threshold=0.3):\n",
    "    new_features = tf.transform([query])\n",
    "    cosine_similarities = linear_kernel(new_features, features).flatten()\n",
    "    related_docs_indices, cos_sim_sorted = zip(*sorted(enumerate(cosine_similarities), key=itemgetter(1), \n",
    "                                                       reverse=True))\n",
    "    doc_ids = []\n",
    "    for i, cos_sim in enumerate(cos_sim_sorted):\n",
    "        if cos_sim < threshold:\n",
    "            break\n",
    "        doc_ids.append(related_docs_indices[i])\n",
    "    return doc_ids"
   ]
  },
  {
   "cell_type": "code",
   "execution_count": 33,
   "metadata": {
    "ExecuteTime": {
     "end_time": "2022-10-26T23:01:06.012097Z",
     "start_time": "2022-10-26T23:01:06.002921Z"
    }
   },
   "outputs": [],
   "source": [
    "# gt_ids are the document ids retrieved by the oracle\n",
    "gt_ids = search_vec_sklearn(\" \".join(query), features)"
   ]
  },
  {
   "cell_type": "markdown",
   "metadata": {},
   "source": [
    "### 2.1. Compute F1-score at 10 between the oracle and your result"
   ]
  },
  {
   "cell_type": "code",
   "execution_count": 46,
   "metadata": {
    "ExecuteTime": {
     "end_time": "2022-10-27T07:18:02.215043Z",
     "start_time": "2022-10-27T07:18:02.209834Z"
    }
   },
   "outputs": [],
   "source": [
    "def compute_recall_at_k(predicted, gt, k):\n",
    "    \n",
    "    # YOUR CODE HERE\n",
    "    correct_recall = set(predicted[:k]).intersection(set(gt))\n",
    "    recall = len(correct_recall) / len(gt)\n",
    "    \n",
    "    return recall"
   ]
  },
  {
   "cell_type": "code",
   "execution_count": 47,
   "metadata": {
    "ExecuteTime": {
     "end_time": "2022-10-27T07:18:02.520056Z",
     "start_time": "2022-10-27T07:18:02.515303Z"
    }
   },
   "outputs": [],
   "source": [
    "def compute_precision_at_k(predicted, gt, k):\n",
    "    correct_precision = set(predicted[:k]).intersection(set(gt))\n",
    "    # YOUR CODE HERE\n",
    "    precision = len(correct_precision) / k\n",
    "    return precision"
   ]
  },
  {
   "cell_type": "code",
   "execution_count": 48,
   "metadata": {
    "ExecuteTime": {
     "end_time": "2022-10-27T07:18:02.807725Z",
     "start_time": "2022-10-27T07:18:02.803510Z"
    }
   },
   "outputs": [],
   "source": [
    "def f1score(predicted, gt, k):\n",
    "    prec = compute_precision_at_k(predicted, gt, k)\n",
    "    rec = compute_recall_at_k(predicted, gt, k)\n",
    "    print(prec, rec)\n",
    "    f1 = 2*prec*rec / (prec + rec)\n",
    "    # YOUR CODE HERE\n",
    "    \n",
    "    return f1"
   ]
  },
  {
   "cell_type": "code",
   "execution_count": 49,
   "metadata": {
    "ExecuteTime": {
     "end_time": "2022-10-27T07:18:03.112401Z",
     "start_time": "2022-10-27T07:18:03.105450Z"
    }
   },
   "outputs": [
    {
     "name": "stdout",
     "output_type": "stream",
     "text": [
      "1.0 0.2857142857142857\n"
     ]
    },
    {
     "data": {
      "text/plain": [
       "0.4444444444444445"
      ]
     },
     "execution_count": 49,
     "metadata": {},
     "output_type": "execute_result"
    }
   ],
   "source": [
    "f1score(retrieved_ids_freq, gt_ids, 10)"
   ]
  },
  {
   "cell_type": "markdown",
   "metadata": {},
   "source": [
    "## Part3. Visualization\n",
    "Plot the terms using two principal concepts"
   ]
  },
  {
   "cell_type": "markdown",
   "metadata": {},
   "source": [
    "### 3.1. Compute the term vectors using two principal concepts\n",
    "Hint: you can reuse a method from the above"
   ]
  },
  {
   "cell_type": "code",
   "execution_count": 58,
   "metadata": {
    "ExecuteTime": {
     "end_time": "2022-10-27T07:33:04.175395Z",
     "start_time": "2022-10-27T07:33:02.815399Z"
    }
   },
   "outputs": [],
   "source": [
    "# term_vecs_freq is a matrix of size (num_terms, 2)\n",
    "term_vecs_freq, _, _= truncated_svd(term_doc_matrix_freq,2)\n",
    "# YOUR CODE HERE  "
   ]
  },
  {
   "cell_type": "code",
   "execution_count": 59,
   "metadata": {
    "ExecuteTime": {
     "end_time": "2022-10-27T07:33:04.216929Z",
     "start_time": "2022-10-27T07:33:04.214319Z"
    }
   },
   "outputs": [
    {
     "data": {
      "text/plain": [
       "(1001, 2)"
      ]
     },
     "execution_count": 59,
     "metadata": {},
     "output_type": "execute_result"
    }
   ],
   "source": [
    "term_vecs_freq.shape"
   ]
  },
  {
   "cell_type": "code",
   "execution_count": 60,
   "metadata": {
    "ExecuteTime": {
     "end_time": "2022-10-27T07:33:05.709772Z",
     "start_time": "2022-10-27T07:33:04.254447Z"
    }
   },
   "outputs": [
    {
     "data": {
      "image/png": "[encoded data removed]",
      "text/plain": [
       "<Figure size 432x288 with 1 Axes>"
      ]
     },
     "metadata": {
      "needs_background": "light"
     },
     "output_type": "display_data"
    }
   ],
   "source": [
    "%matplotlib inline\n",
    "import matplotlib.pyplot as plt\n",
    "from pylab import *\n",
    "\n",
    "plt.scatter(term_vecs_freq[:, 0], term_vecs_freq[:, 1])\n",
    "for i, t in enumerate(vocab_freq):\n",
    "    plt.annotate(t, (term_vecs_freq[i, 0], term_vecs_freq[i, 1]))\n",
    "plt.show()"
   ]
  },
  {
   "cell_type": "markdown",
   "metadata": {},
   "source": [
    "### 3.2. Explain the scatter plot of the term vectors"
   ]
  },
  {
   "cell_type": "markdown",
   "metadata": {},
   "source": [
    "Hint: Do you see any outliers? What is a possible explanation?"
   ]
  },
  {
   "cell_type": "markdown",
   "metadata": {},
   "source": [
    "*YOUR ANSWER HERE*"
   ]
  }
 ],
 "metadata": {
  "hide_input": false,
  "kernelspec": {
   "display_name": "Python [conda env:py39]",
   "language": "python",
   "name": "conda-env-py39-py"
  },
  "language_info": {
   "codemirror_mode": {
    "name": "ipython",
    "version": 3
   },
   "file_extension": ".py",
   "mimetype": "text/x-python",
   "name": "python",
   "nbconvert_exporter": "python",
   "pygments_lexer": "ipython3",
   "version": "3.9.12"
  },
  "toc": {
   "base_numbering": "0",
   "nav_menu": {},
   "number_sections": true,
   "sideBar": true,
   "skip_h1_title": false,
   "title_cell": "Table of Contents",
   "title_sidebar": "Contents",
   "toc_cell": true,
   "toc_position": {
    "height": "calc(100% - 180px)",
    "left": "10px",
    "top": "150px",
    "width": "400px"
   },
   "toc_section_display": true,
   "toc_window_display": false
  },
  "varInspector": {
   "cols": {
    "lenName": 16,
    "lenType": 16,
    "lenVar": 40
   },
   "kernels_config": {
    "python": {
     "delete_cmd_postfix": "",
     "delete_cmd_prefix": "del ",
     "library": "var_list.py",
     "varRefreshCmd": "print(var_dic_list())"
    },
    "r": {
     "delete_cmd_postfix": ") ",
     "delete_cmd_prefix": "rm(",
     "library": "var_list.r",
     "varRefreshCmd": "cat(var_dic_list()) "
    }
   },
   "types_to_exclude": [
    "module",
    "function",
    "builtin_function_or_method",
    "instance",
    "_Feature"
   ],
   "window_display": false
  },
  "vscode": {
   "interpreter": {
    "hash": "75fd394e35225182f207b93437350142e41aafd8fa2b11cc1a17258e1fa2f196"
   }
  }
 },
 "nbformat": 4,
 "nbformat_minor": 2
}
